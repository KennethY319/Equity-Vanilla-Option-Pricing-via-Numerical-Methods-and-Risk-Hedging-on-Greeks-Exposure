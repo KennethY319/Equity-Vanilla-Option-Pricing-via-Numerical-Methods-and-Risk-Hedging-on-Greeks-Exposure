{
 "cells": [
  {
   "cell_type": "code",
   "execution_count": 104,
   "metadata": {},
   "outputs": [],
   "source": [
    "import numpy as np\n",
    "import math\n",
    "import scipy as scp\n",
    "import scipy.stats as ss\n",
    "import matplotlib.pyplot as plt"
   ]
  },
  {
   "cell_type": "code",
   "execution_count": 105,
   "metadata": {},
   "outputs": [],
   "source": [
    "class Option_param():\n",
    "    \"\"\"\n",
    "    Option class wants the option parameters:\n",
    "    S0 = current stock price\n",
    "    K = Strike price\n",
    "    T = time to maturity\n",
    "    \n",
    "    exercise = European or American\n",
    "    \"\"\"\n",
    "    def __init__(self, S0=100, K=100, T=1, payoff=\"call\", exercise=\"European\"):\n",
    "        self.S0 = S0\n",
    "        self.K = K\n",
    "        self.T = T\n",
    "        self.Delta = None\n",
    "        self.Gamma = None\n",
    "        self.Theta = None\n",
    "        self.Vega = None\n",
    "        self.Rho = None\n",
    "        \n",
    "        if (exercise==\"European\" or exercise==\"American\"):\n",
    "            self.exercise = exercise\n",
    "        else: \n",
    "            raise ValueError(\"invalid type. Set 'European' or 'American'\")\n",
    "        \n",
    "        if (payoff==\"call\" or payoff==\"put\"):\n",
    "            self.payoff = payoff\n",
    "        else: \n",
    "            raise ValueError(\"invalid type. Set 'call' or 'put'\")\n"
   ]
  },
  {
   "cell_type": "code",
   "execution_count": 106,
   "metadata": {},
   "outputs": [],
   "source": [
    "class Diffusion_process():\n",
    "    \"\"\"\n",
    "    Class for the diffusion process:\n",
    "    r = continuously compounded risk-free interest rate (% p.a.)\n",
    "    q = continuously compounded dividend yield (% p.a.)\n",
    "    sig = volatility (% p.a.)\n",
    "    \"\"\"\n",
    "    def __init__(self, r=0.1, q=0.0, sig=0.2):\n",
    "        self.r = r\n",
    "        if (q<0):\n",
    "            raise ValueError(\"Dividend must be positive\")\n",
    "        else:\n",
    "            self.q = q\n",
    "            \n",
    "        if (sig<=0):\n",
    "            raise ValueError(\"sig must be positive\")\n",
    "        else:\n",
    "            self.sig = sig\n",
    "\n",
    "    def exp_RV(self, S0, T, N):\n",
    "        W = ss.norm.rvs( (self.r-0.5*self.sig**2)*T , np.sqrt(T)*self.sig, N)\n",
    "        S_T = S0 * np.exp(W)\n",
    "        return S_T"
   ]
  },
  {
   "cell_type": "code",
   "execution_count": 107,
   "metadata": {},
   "outputs": [],
   "source": [
    "class Option_pricer():\n",
    "    \n",
    "    def __init__(self, Option_info, Process_info ):\n",
    "        \"\"\"\n",
    "        Process_info:  of type Diffusion_process. It contains (r,mu, sig) i.e.  interest rate, drift coefficient, diffusion coefficient\n",
    "    \n",
    "        Option_info:  of type Option_param. It contains (S0,K,T) i.e. current price, strike, maturity in years\n",
    "        \"\"\"\n",
    "        self.r = Process_info.r           # interest rate\n",
    "        self.q = Process_info.q\n",
    "        self.sig = Process_info.sig       # diffusion coefficient\n",
    "        self.S0 = Option_info.S0          # current price\n",
    "        self.K = Option_info.K            # strike\n",
    "        self.T = Option_info.T            # maturity in years\n",
    "        self.exercise = Option_info.exercise\n",
    "        self.payoff = Option_info.payoff\n",
    "        \n",
    "        \n",
    "    def payoff_f(self, S):\n",
    "        if self.payoff == \"call\":\n",
    "            Payoff = np.maximum( S - self.K, 0 )\n",
    "        elif self.payoff == \"put\":    \n",
    "            Payoff = np.maximum( self.K - S, 0 )  \n",
    "        return Payoff\n",
    "    \n",
    "    \n",
    "    def Binomial_Tree(self, N=10000):\n",
    "        dT = float(self.T) / N                             # Delta t\n",
    "        u = np.exp(self.sig * np.sqrt(dT))                 # up factor\n",
    "        d = 1.0 / u                                   # down factor \n",
    "\n",
    "        V = np.zeros(N+1)                             # initialize the price vector\n",
    "        S_T = np.array( [(self.S0 * u**j * d**(N - j)) for j in range(N + 1)] )  # price S_T at time T\n",
    "\n",
    "        a = np.exp((self.r - self.q ) * dT)    # risk free compound return\n",
    "        p = (a - d)/ (u - d)  # risk neutral up probability\n",
    "        q = 1.0 - p           # risk neutral down probability   \n",
    "\n",
    "        if self.payoff ==\"call\":\n",
    "            V[:] = np.maximum(S_T-self.K, 0.0)\n",
    "        elif self.payoff ==\"put\":\n",
    "            V[:] = np.maximum(self.K-S_T, 0.0)\n",
    "        else: raise ValueError(\"invalid type. Set 'call' or 'put'\")\n",
    "\n",
    "        \n",
    "        if self.exercise == \"American\":\n",
    "            for i in range(N-1, -1, -1):\n",
    "                V[:-1] = np.exp(-self.r*dT) * (p * V[1:] + q * V[:-1])    # the price vector is overwritten at each step\n",
    "                S_T = S_T * u                    # it is a tricky way to obtain the price at the previous time step\n",
    "                if self.payoff==\"call\":\n",
    "                    V = np.maximum( V, S_T-self.K )\n",
    "                elif self.payoff==\"put\":\n",
    "                    V = np.maximum( V, self.K-S_T )\n",
    "\n",
    "            return (\"American\", V[0])\n",
    "            \n",
    "        elif self.exercise == \"European\":\n",
    "            for i in range(N-1, -1, -1):\n",
    "                V[:-1] = np.exp(-self.r*dT) * (p * V[1:] + q * V[:-1])    # the price vector is overwritten at each step\n",
    "\n",
    "            return (\"European\",  V[0])\n",
    "        \n",
    "        else: raise ValueError(\"invalid type. Set 'American' or 'European'\")\n",
    "    \n",
    "    \n",
    "    def Monte_Carlo_Simulation(self, N=10000, paths=10000, order=2):\n",
    "        \"\"\"\n",
    "        Monte Carlo Simulation for pricing American options\n",
    "        \n",
    "        N = number of time steps\n",
    "        paths = number of generated paths\n",
    "        order = order of the polynomial for the regression \n",
    "        \"\"\"\n",
    "        dt = self.T/(N-1)          # time interval\n",
    "        df = np.exp(-self.r * dt)  # discount factor per time time interval\n",
    "\n",
    "        X0 = np.zeros((paths,1))\n",
    "        increments = ss.norm.rvs(loc=(self.r - self.q - self.sig**2/2)*dt, scale=np.sqrt(dt)*self.sig, size=(paths,N-1))\n",
    "        X = np.concatenate((X0,increments), axis=1).cumsum(1)\n",
    "        S = self.S0 * np.exp(X)\n",
    "        \n",
    "        if self.exercise == \"American\":\n",
    "            if self.payoff ==\"put\":\n",
    "                H = np.maximum(self.K - S, 0)   # intrinsic values for put option\n",
    "                V = np.zeros_like(H)            # value matrix\n",
    "                V[:,-1] = H[:,-1]\n",
    "\n",
    "                # Valuation by Monte Carlo Simulation\n",
    "                for t in range(N-2, 0, -1):\n",
    "                    good_paths = H[:,t] > 0    \n",
    "                    rg = np.polyfit( S[good_paths, t], V[good_paths, t+1] * df, order)    # polynomial regression\n",
    "                    C = np.polyval( rg, S[good_paths,t] )                             # evaluation of regression  \n",
    "\n",
    "                    exercise = np.zeros( len(good_paths), dtype=bool)\n",
    "                    exercise[good_paths] = H[good_paths,t] > C\n",
    "\n",
    "                    V[exercise,t] = H[exercise,t]\n",
    "                    V[exercise,t+1:] = 0\n",
    "                    discount_path = (V[:,t] == 0)\n",
    "                    V[discount_path,t] = V[discount_path,t+1] * df\n",
    "\n",
    "                V0 = np.mean(V[:,1]) * df  # \n",
    "                return (\"American\" , V0)\n",
    "\n",
    "            elif self.payoff ==\"call\":\n",
    "                H = np.maximum(S - self.K, 0)   # intrinsic values for put option\n",
    "                V = np.zeros_like(H)            # value matrix\n",
    "                V[:,-1] = H[:,-1]\n",
    "\n",
    "                # Valuation by Monte Carlo Simulation\n",
    "                for t in range(N-2, 0, -1):\n",
    "                    good_paths = H[:,t] > 0  \n",
    "                    if t==N-2: type(good_paths)\n",
    "                    rg = np.polyfit( S[good_paths, t], V[good_paths, t+1] * df, order)    # polynomial regression\n",
    "                    C = np.polyval( rg, S[good_paths,t] )                             # evaluation of regression  \n",
    "\n",
    "                    exercise = np.zeros( len(good_paths), dtype=bool)\n",
    "                    exercise[good_paths] = H[good_paths,t] > C\n",
    "\n",
    "                    V[exercise,t] = H[exercise,t]\n",
    "                    V[exercise,t+1:] = 0\n",
    "                    discount_path = (V[:,t] == 0)\n",
    "                    V[discount_path,t] = V[discount_path,t+1] * df\n",
    "\n",
    "                V0 = np.mean(V[:,1]) * df  # \n",
    "                return(\"American\" , V0)\n",
    "\n",
    "            else: raise ValueError(\"invalid type. Set 'call' or 'put'\")\n",
    "    \n",
    "        elif self.exercise == \"European\":\n",
    "            if self.payoff ==\"put\":\n",
    "                H = np.maximum(self.K - S, 0)   # intrinsic values for put option\n",
    "                V = np.zeros_like(H)            # value matrix\n",
    "                V[:,-1] = H[:,-1]\n",
    "\n",
    "                # Valuation by Monte Carlo Simulation\n",
    "                for t in range(N-2, 0, -1):\n",
    "                    V[:,t] = V[:,t+1] * df\n",
    "\n",
    "                V0 = np.mean(V[:,1]) * df  # \n",
    "                return(\"European\" , V0)   \n",
    "\n",
    "            elif self.payoff ==\"call\":\n",
    "                H = np.maximum(S - self.K, 0)   # intrinsic values for put option\n",
    "                V = np.zeros_like(H)            # value matrix\n",
    "                V[:,-1] = H[:,-1]\n",
    "\n",
    "                # Valuation by Monte Carlo Simulation\n",
    "                for t in range(N-2, 0, -1):\n",
    "                    V[:,t] = V[:,t+1] * df\n",
    "\n",
    "                V0 = np.mean(V[:,1]) * df  # \n",
    "                return(\"European\" , V0)\n",
    "\n",
    "            else: raise ValueError(\"invalid type. Set 'call' or 'put'\")\n",
    "\n",
    "        else: raise ValueError(\"invalid type. Set 'American' or 'European'\")\n",
    "    \n",
    "    \n",
    "    \n",
    "    def Black_Scholes(self):\n",
    "        \"\"\" Black Scholes closed formula:\n",
    "            payoff: call or put.\n",
    "            S0: float.    initial stock/index level.\n",
    "            K: float strike price.\n",
    "            T: float maturity (in year fractions).  \n",
    "            r: float constant risk-free short rate.\n",
    "            sigma: volatility factor in diffusion term. \"\"\"\n",
    "   \n",
    "        d1 = (np.log(self.S0/self.K) + (self.r - self.q + self.sig**2 / 2) * self.T) / (self.sig * np.sqrt(self.T))\n",
    "        d2 = (np.log(self.S0/self.K) + (self.r - self.q - self.sig**2 / 2) * self.T) / (self.sig * np.sqrt(self.T))\n",
    "\n",
    "        if self.payoff=='call':\n",
    "            return (\"European\", self.S0 * np.exp(-self.q * self.T) * ss.norm.cdf( d1 ) - self.K * np.exp(-self.r * self.T) * ss.norm.cdf( d2 ))\n",
    "        elif self.payoff=='put':\n",
    "            return (\"European\", self.K * np.exp(-self.r * self.T) * ss.norm.cdf( -d2 ) - self.S0 * np.exp(-self.q * self.T) * ss.norm.cdf( -d1 ))\n",
    "        else:\n",
    "            raise ValueError(\"invalid type. Set 'call' or 'put'\")\n",
    "            \n",
    "            \n",
    "            \n",
    "    def plot(self): \n",
    "        \n",
    "        if self.exercise == \"European\":\n",
    "            fig, axs = plt.subplots(2, figsize=(10,10))\n",
    "            fig.tight_layout(pad = 7)\n",
    "\n",
    "            K = np.arange(self.K*0.1,self.K*1.9, self.K*0.1)\n",
    "            if self.payoff == \"call\":\n",
    "                payoff = np.array(np.maximum(self.S0-K, 0))\n",
    "            if self.payoff == \"put\":\n",
    "                payoff = np.array(np.maximum(K-self.S0, 0))\n",
    "            axs[0].plot(K, payoff, label = \"exercise price at S0\")\n",
    "\n",
    "\n",
    "            price = np.array([])\n",
    "            for k in np.arange(self.K*0.1,self.K*1.9, self.K*0.1):\n",
    "                opt_param = Option_param(S0=self.S0, K=k, T=self.T, exercise=self.exercise, payoff=self.payoff)\n",
    "                diff_param = Diffusion_process(r=self.r, sig=self.sig)\n",
    "                option = Option_pricer(opt_param, diff_param)\n",
    "                price = np.append(price, option.Black_Scholes()[1])\n",
    "\n",
    "            axs[0].plot(K, price, label = \"Black_Scholes Pricing\")\n",
    "            axs[0].set_title(\"Spot price = \" + str(self.S0))\n",
    "            axs[0].set(xlabel = \"Strike price (K)\", ylabel = \"Option Value\")\n",
    "            axs[0].legend()\n",
    "\n",
    "\n",
    "\n",
    "            S0 = np.arange(self.S0*0.1,self.S0*1.9, self.S0*0.1)\n",
    "            if self.payoff == \"call\":\n",
    "                payoff = np.array(np.maximum(S0-self.K, 0))\n",
    "            if self.payoff == \"put\":\n",
    "                payoff = np.array(np.maximum(self.K-S0, 0))\n",
    "            axs[1].plot(S0, payoff, label = \"exercise price at S0\")\n",
    "\n",
    "\n",
    "            price = np.array([])\n",
    "            for S in np.arange(self.S0*0.1,self.S0*1.9, self.S0*0.1):\n",
    "                opt_param = Option_param(S0=S, K=self.K, T=self.T, exercise=self.exercise, payoff=self.payoff)\n",
    "                diff_param = Diffusion_process(r=self.r, sig=self.sig)\n",
    "                option = Option_pricer(opt_param, diff_param)\n",
    "                price = np.append(price, option.Black_Scholes()[1])\n",
    "\n",
    "            axs[1].plot(S0, price, label = \"Black_Scholes Pricing\")\n",
    "            axs[1].set_title(\"Strike price = \" + str(self.S0))\n",
    "            axs[1].set(xlabel = \"Spot price (S0)\", ylabel = \"Option Value\")\n",
    "            axs[1].legend()\n",
    "        \n",
    "        elif self.exercise == \"American\":\n",
    "            fig, axs = plt.subplots(2, figsize=(10,10))\n",
    "            fig.tight_layout(pad = 7)\n",
    "\n",
    "            K = np.arange(self.K*0.1,self.K*1.9, self.K*0.1)\n",
    "            if self.payoff == \"call\":\n",
    "                payoff = np.array(np.maximum(self.S0-K, 0))\n",
    "            if self.payoff == \"put\":\n",
    "                payoff = np.array(np.maximum(K-self.S0, 0))\n",
    "            axs[0].plot(K, payoff, label = \"exercise price at S0\")\n",
    "\n",
    "\n",
    "            price = np.array([])\n",
    "            for k in np.arange(self.K*0.1,self.K*1.9, self.K*0.1):\n",
    "                opt_param = Option_param(S0=self.S0, K=k, T=self.T, exercise=self.exercise, payoff=self.payoff)\n",
    "                diff_param = Diffusion_process(r=self.r, sig=self.sig)\n",
    "                option = Option_pricer(opt_param, diff_param)\n",
    "                price = np.append(price, option.Binomial_Tree()[1])\n",
    "\n",
    "            axs[0].plot(K, price, label = \"Binomial_Tree Pricing\")\n",
    "            axs[0].set_title(\"Spot price = \" + str(self.S0))\n",
    "            axs[0].set(xlabel = \"Strike price (K)\", ylabel = \"Option Value\")\n",
    "            axs[0].legend()\n",
    "\n",
    "\n",
    "\n",
    "            S0 = np.arange(self.S0*0.1,self.S0*1.9, self.S0*0.1)\n",
    "            if self.payoff == \"call\":\n",
    "                payoff = np.array(np.maximum(S0-self.K, 0))\n",
    "            if self.payoff == \"put\":\n",
    "                payoff = np.array(np.maximum(self.K-S0, 0))\n",
    "            axs[1].plot(S0, payoff, label = \"exercise price at S0\")\n",
    "\n",
    "\n",
    "            price = np.array([])\n",
    "            for S in np.arange(self.S0*0.1,self.S0*1.9, self.S0*0.1):\n",
    "                opt_param = Option_param(S0=S, K=self.K, T=self.T, exercise=self.exercise, payoff=self.payoff)\n",
    "                diff_param = Diffusion_process(r=self.r, sig=self.sig)\n",
    "                option = Option_pricer(opt_param, diff_param)\n",
    "                price = np.append(price, option.Binomial_Tree()[1])\n",
    "\n",
    "            axs[1].plot(S0, price, label = \"Binomial_Tree Pricing\")\n",
    "            axs[1].set_title(\"Strike price = \" + str(self.S0))\n",
    "            axs[1].set(xlabel = \"Spot price (S0)\", ylabel = \"Option Value\")\n",
    "            axs[1].legend()\n",
    "            \n",
    "        \n",
    "        else: raise ValueError(\"invalid type. Set 'American' or 'European'\")\n",
    "            \n",
    "    \n",
    "    \n",
    "    def greeks(self):\n",
    "        d1 = (np.log(self.S0/self.K) + (self.r - self.q + self.sig**2 / 2) * self.T) / (self.sig * np.sqrt(self.T))\n",
    "        d2 = (np.log(self.S0/self.K) + (self.r - self.q - self.sig**2 / 2) * self.T) / (self.sig * np.sqrt(self.T))\n",
    "        \n",
    "        if self.payoff == \"call\":\n",
    "            self.Delta = np.exp(-self.q * self.T) * ss.norm.cdf(d1)\n",
    "            self.Gamma = (np.exp(-self.q * self.T - (d1**2)/2))/(self.S0 * self.sig * np.sqrt(self.T) * np.sqrt(2 * math.pi))\n",
    "            self.Theta = (1/(self.T*365)) * (-((self.S0 * self.sig * np.exp(-self.q * self.T - (d1**2)/2))/(2 * np.sqrt(2 * self.T * math.pi))) - self.r * self.K * np.exp(-self.r * self.T) * ss.norm.cdf(d2) + self.q * self.S0 * np.exp(-self.q * self.T) * ss.norm.cdf(d1))\n",
    "            self.Vega  = (1/100) * self.S0 * np.exp(-self.q * self.T - (d1**2)/2) * np.sqrt(self.T) * (1/np.sqrt(2 * math.pi))   \n",
    "            self.Rho   = (1/100) * self.K * self.T * np.exp(-self.r * self.T) * ss.norm.cdf(d2)\n",
    "        \n",
    "        elif self.payoff == \"put\":\n",
    "            self.Delta = np.exp(-self.q * self.T) * (ss.norm.cdf(d1)-1)\n",
    "            self.Gamma = (np.exp(-self.q * self.T - (d1**2)/2))/(self.S0 * self.sig * np.sqrt(self.T) * np.sqrt(2 * math.pi))\n",
    "            self.Theta = (1/(self.T*365)) * (-((self.S0 * self.sig * np.exp(-self.q * self.T - (d1**2)/2))/(2 * np.sqrt(2 * self.T * math.pi))) + self.r * self.K * np.exp(-self.r * self.T) * ss.norm.cdf(-d2) - self.q * self.S0 * np.exp(-self.q * self.T) * ss.norm.cdf(-d1))\n",
    "            self.Vega  = (1/100) * self.S0 * np.exp(-self.q * self.T - (d1**2)/2) * np.sqrt(self.T) * (1/np.sqrt(2 * math.pi))  \n",
    "            self.Rho   = (-1/100) * self.K * self.T * np.exp(-self.r * self.T) * ss.norm.cdf(-d2)\n",
    "        \n",
    "        else: raise ValueError(\"invalid type. Set 'call' or 'put'\")\n",
    "        \n",
    "        print(\"Delta: \", self.Delta)\n",
    "        print(\"Gamma: \", self.Gamma)\n",
    "        print(\"Theta: \", self.Theta)\n",
    "        print(\"Vega: \" , self.Vega )\n",
    "        print(\"Rho: \"  , self.Rho  )\n",
    "        print(\"\\n\")\n",
    "    "
   ]
  },
  {
   "cell_type": "code",
   "execution_count": 108,
   "metadata": {},
   "outputs": [],
   "source": [
    "def implied_vol(payoff, option_price, S0, K, T, r, q):\n",
    "    # apply bisection method to get the implied volatility by solving the BSM function\n",
    "    precision = 0.00001\n",
    "    upper_vol = 500.0\n",
    "    lower_vol = 0.0001\n",
    "    iteration = 0\n",
    "    \n",
    "    opt_param = Option_param(S0=S0, K=K, T=T, exercise=\"European\", payoff=payoff)\n",
    "    diff_param = Diffusion_process(r=r, q=q, sig=250.0)\n",
    "    option = Option_pricer(opt_param, diff_param)\n",
    "\n",
    "    while 1:\n",
    "        iteration +=1\n",
    "        mid_vol = (upper_vol + lower_vol)/2.0\n",
    "        option.sig = mid_vol\n",
    "        price = option.Black_Scholes()[1]\n",
    "        if payoff == \"call\":\n",
    "            option.sig = lower_vol\n",
    "            lower_price = option.Black_Scholes()[1]\n",
    "            if (lower_price - option_price) * (price - option_price) > 0:\n",
    "                lower_vol = mid_vol\n",
    "            else:\n",
    "                upper_vol = mid_vol\n",
    "            if abs(price - option_price) < precision: break \n",
    "            if iteration > 100: raise ValueError(\"Computational error occured. \")\n",
    "\n",
    "        elif payoff == \"put\":\n",
    "            option.sig = upper_vol\n",
    "            upper_price = option.Black_Scholes()[1]\n",
    "            if (upper_price - option_price) * (price - option_price) > 0:\n",
    "                upper_vol = mid_vol\n",
    "            else:\n",
    "                lower_vol = mid_vol\n",
    "            if abs(price - option_price) < precision: break \n",
    "            if iteration > 100: raise ValueError(\"Computational error occured. \")\n",
    "\n",
    "    return mid_vol"
   ]
  },
  {
   "cell_type": "code",
   "execution_count": 109,
   "metadata": {},
   "outputs": [],
   "source": [
    "def greeks_hedge (*option):\n",
    "    \"\"\"\n",
    "    if Delta is being hedged:      number of options needed = Number of hedged Greeks\n",
    "    if Delta is not being hedged:  number of options needed = Number of hedged Greeks + 1\n",
    "    \"\"\"  \n",
    "    num_option = 0\n",
    "    for opt in option:\n",
    "        num_option += 1\n",
    "        print(\"Option\",num_option,\":\")\n",
    "        opt.greeks()\n",
    "        \n",
    "    number = ['first', 'second', 'thirth', 'fourth', 'fifth']\n",
    "    \n",
    "    num_greeks = int(input(\"How many greeks are going to hedge: \"))\n",
    "    greeks = [np.array([],dtype = str)]\n",
    "    for n in range(num_greeks):\n",
    "        greeks = np.append(greeks, input(\"The \" + number[n] + \" hedging greek: \"))\n",
    "    \n",
    "    \n",
    "    stock_Delta = np.array([1])\n",
    "    array_Delta = np.append(stock_Delta, [option[index].Delta for index in range(num_option-1)])\n",
    "    stock_Gamma = np.array([0])\n",
    "    array_Gamma = np.append(stock_Gamma, [option[index].Gamma for index in range(num_option-1)])\n",
    "    stock_Theta = np.array([0])\n",
    "    array_Theta = np.append(stock_Theta, [option[index].Theta for index in range(num_option-1)])\n",
    "    stock_Vega  = np.array([0])\n",
    "    array_Vega  = np.append(stock_Vega , [option[index].Vega  for index in range(num_option-1)])\n",
    "    stock_Rho = np.array([0])\n",
    "    array_Rho   = np.append(stock_Rho  , [option[index].Rho   for index in range(num_option-1)])\n",
    "    \n",
    "    matrix_Left  = np.array([])\n",
    "    matrix_Right = np.array([])\n",
    "    \n",
    "    for g in greeks:\n",
    "        if g == \"Delta\":\n",
    "            matrix_Left  = np.append(matrix_Left, array_Delta)\n",
    "            matrix_Right = np.append(matrix_Right, -option[-1].Delta)\n",
    "        if g == \"Gamma\":\n",
    "            matrix_Left  = np.append(matrix_Left, array_Gamma)\n",
    "            matrix_Right = np.append(matrix_Right, -option[-1].Gamma)\n",
    "        if g == \"Theta\":\n",
    "            matrix_Left  = np.append(matrix_Left, array_Theta)\n",
    "            matrix_Right = np.append(matrix_Right, -option[-1].Theta)\n",
    "        if g == \"Vega\":\n",
    "            matrix_Left  = np.append(matrix_Left, array_Vega)\n",
    "            matrix_Right = np.append(matrix_Right, -option[-1].Vega)\n",
    "        if g == \"Rho\":\n",
    "            matrix_Left  = np.append(matrix_Left, array_Rho)\n",
    "            matrix_Right = np.append(matrix_Right, -option[-1].Rho)\n",
    "        \n",
    "        \n",
    "    matrix_Left.shape = (num_greeks,num_option)\n",
    "    x = np.linalg.lstsq(matrix_Left, matrix_Right)\n",
    "    result = np.append(x[0],1)\n",
    "    for i in range(num_option+1):\n",
    "        if i==0: \n",
    "            print(\"\\nPortfolio: \")\n",
    "            print(\"Stock     : \", result[i])\n",
    "        else:\n",
    "            print(\"Option \",i,\": \", result[i])\n",
    "\n",
    "    \n",
    "    \n",
    "    matrix_greeks = np.array([np.append(array_Delta, option[-1].Delta), np.append(array_Gamma, option[-1].Gamma), np.append(array_Theta, option[-1].Theta), np.append(array_Vega, option[-1].Vega), np.append(array_Rho, option[-1].Rho)])\n",
    "    portfolio_greeks = matrix_greeks.dot(result)\n",
    "    print(\"\\nThe Portfolio's Greeks: \")\n",
    "    print(\"Delta: \", portfolio_greeks[0])\n",
    "    print(\"Gamma: \", portfolio_greeks[1])\n",
    "    print(\"Theta: \", portfolio_greeks[2])\n",
    "    print(\"Vega : \", portfolio_greeks[3])\n",
    "    print(\"Rho  : \", portfolio_greeks[4])\n",
    "    \n",
    "    \n",
    "    \n",
    "    \n",
    "    "
   ]
  },
  {
   "cell_type": "code",
   "execution_count": 110,
   "metadata": {},
   "outputs": [
    {
     "data": {
      "text/plain": [
       "0.1999999687580392"
      ]
     },
     "execution_count": 110,
     "metadata": {},
     "output_type": "execute_result"
    }
   ],
   "source": [
    "implied_vol(payoff=\"call\", option_price=5.17174691, S0=100, K=110, T=1, r=0.13, q=0.09)"
   ]
  },
  {
   "cell_type": "code",
   "execution_count": 111,
   "metadata": {},
   "outputs": [
    {
     "data": {
      "text/plain": [
       "0.21991443538814784"
      ]
     },
     "execution_count": 111,
     "metadata": {},
     "output_type": "execute_result"
    }
   ],
   "source": [
    "implied_vol(payoff=\"put\", option_price=0.10336389, S0=100, K=70, T=1, r=0.13, q=0.02)"
   ]
  },
  {
   "cell_type": "code",
   "execution_count": 112,
   "metadata": {},
   "outputs": [
    {
     "data": {
      "text/plain": [
       "0.20028961002081633"
      ]
     },
     "execution_count": 112,
     "metadata": {},
     "output_type": "execute_result"
    }
   ],
   "source": [
    "implied_vol(payoff=\"call\", option_price=6.0128267, S0=100, K=110, T=1, r=0.13, q=0.07)"
   ]
  },
  {
   "cell_type": "code",
   "execution_count": 113,
   "metadata": {},
   "outputs": [],
   "source": [
    "# Creates the option_1\n",
    "opt_param = Option_param(S0=100, K=110, T=1, exercise=\"European\", payoff=\"call\")\n",
    "diff_param = Diffusion_process(r=0.13, q=0.09, sig=0.2)\n",
    "option_1 = Option_pricer(opt_param, diff_param)"
   ]
  },
  {
   "cell_type": "code",
   "execution_count": 114,
   "metadata": {},
   "outputs": [],
   "source": [
    "# Creates the option_2\n",
    "opt_param = Option_param(S0=100, K=70, T=1, exercise=\"European\", payoff=\"put\")\n",
    "diff_param = Diffusion_process(r=0.13, q=0.02, sig=0.22)\n",
    "option_2 = Option_pricer(opt_param, diff_param)"
   ]
  },
  {
   "cell_type": "code",
   "execution_count": 115,
   "metadata": {},
   "outputs": [],
   "source": [
    "# Creates the option_3\n",
    "opt_param = Option_param(S0=100, K=110, T=1, exercise=\"European\", payoff=\"call\")\n",
    "diff_param = Diffusion_process(r=0.13, q=0.07, sig=0.2)\n",
    "option_3 = Option_pricer(opt_param, diff_param)"
   ]
  },
  {
   "cell_type": "code",
   "execution_count": 116,
   "metadata": {},
   "outputs": [
    {
     "data": {
      "text/plain": [
       "('European', 5.17173982431996)"
      ]
     },
     "execution_count": 116,
     "metadata": {},
     "output_type": "execute_result"
    }
   ],
   "source": [
    "option_1.Binomial_Tree()"
   ]
  },
  {
   "cell_type": "code",
   "execution_count": 117,
   "metadata": {},
   "outputs": [
    {
     "data": {
      "text/plain": [
       "('European', 5.296825291527466)"
      ]
     },
     "execution_count": 117,
     "metadata": {},
     "output_type": "execute_result"
    }
   ],
   "source": [
    "option_1.Monte_Carlo_Simulation()"
   ]
  },
  {
   "cell_type": "code",
   "execution_count": 118,
   "metadata": {},
   "outputs": [
    {
     "data": {
      "text/plain": [
       "('European', 5.171746910724259)"
      ]
     },
     "execution_count": 118,
     "metadata": {},
     "output_type": "execute_result"
    }
   ],
   "source": [
    "option_1.Black_Scholes()"
   ]
  },
  {
   "cell_type": "code",
   "execution_count": 119,
   "metadata": {},
   "outputs": [
    {
     "data": {
      "text/plain": [
       "('European', 0.10361881912995327)"
      ]
     },
     "execution_count": 119,
     "metadata": {},
     "output_type": "execute_result"
    }
   ],
   "source": [
    "option_2.Binomial_Tree()"
   ]
  },
  {
   "cell_type": "code",
   "execution_count": 120,
   "metadata": {},
   "outputs": [
    {
     "data": {
      "text/plain": [
       "('European', 0.11649074315647964)"
      ]
     },
     "execution_count": 120,
     "metadata": {},
     "output_type": "execute_result"
    }
   ],
   "source": [
    "option_2.Monte_Carlo_Simulation()"
   ]
  },
  {
   "cell_type": "code",
   "execution_count": 121,
   "metadata": {},
   "outputs": [
    {
     "data": {
      "text/plain": [
       "('European', 0.10363892841819022)"
      ]
     },
     "execution_count": 121,
     "metadata": {},
     "output_type": "execute_result"
    }
   ],
   "source": [
    "option_2.Black_Scholes()"
   ]
  },
  {
   "cell_type": "code",
   "execution_count": 122,
   "metadata": {},
   "outputs": [
    {
     "data": {
      "text/plain": [
       "('European', 6.002053141851009)"
      ]
     },
     "execution_count": 122,
     "metadata": {},
     "output_type": "execute_result"
    }
   ],
   "source": [
    "option_3.Binomial_Tree()"
   ]
  },
  {
   "cell_type": "code",
   "execution_count": 123,
   "metadata": {},
   "outputs": [
    {
     "data": {
      "text/plain": [
       "('European', 5.992604805106601)"
      ]
     },
     "execution_count": 123,
     "metadata": {},
     "output_type": "execute_result"
    }
   ],
   "source": [
    "option_3.Monte_Carlo_Simulation()"
   ]
  },
  {
   "cell_type": "code",
   "execution_count": 124,
   "metadata": {},
   "outputs": [
    {
     "data": {
      "text/plain": [
       "('European', 6.002075719878697)"
      ]
     },
     "execution_count": 124,
     "metadata": {},
     "output_type": "execute_result"
    }
   ],
   "source": [
    "option_3.Black_Scholes()"
   ]
  },
  {
   "cell_type": "code",
   "execution_count": 125,
   "metadata": {
    "scrolled": false
   },
   "outputs": [
    {
     "data": {
      "image/png": "[encoded data removed]",
      "text/plain": [
       "<Figure size 720x720 with 2 Axes>"
      ]
     },
     "metadata": {
      "needs_background": "light"
     },
     "output_type": "display_data"
    }
   ],
   "source": [
    "option_1.plot()"
   ]
  },
  {
   "cell_type": "code",
   "execution_count": 126,
   "metadata": {},
   "outputs": [
    {
     "data": {
      "image/png": "[encoded data removed]",
      "text/plain": [
       "<Figure size 720x720 with 2 Axes>"
      ]
     },
     "metadata": {
      "needs_background": "light"
     },
     "output_type": "display_data"
    }
   ],
   "source": [
    "option_2.plot()"
   ]
  },
  {
   "cell_type": "code",
   "execution_count": 127,
   "metadata": {},
   "outputs": [
    {
     "data": {
      "image/png": "[encoded data removed]",
      "text/plain": [
       "<Figure size 720x720 with 2 Axes>"
      ]
     },
     "metadata": {
      "needs_background": "light"
     },
     "output_type": "display_data"
    }
   ],
   "source": [
    "option_3.plot()"
   ]
  },
  {
   "cell_type": "code",
   "execution_count": 141,
   "metadata": {
    "scrolled": false
   },
   "outputs": [
    {
     "name": "stdout",
     "output_type": "stream",
     "text": [
      "Option 1 :\n",
      "Delta:  0.39292696684251743\n",
      "Gamma:  0.01794837106324773\n",
      "Theta:  -0.01229878077157661\n",
      "Vega:  0.35896742126495457\n",
      "Rho:  0.34120949773527487\n",
      "\n",
      "\n",
      "Option 2 :\n",
      "Delta:  -0.012578198789316201\n",
      "Gamma:  0.0014748209310516587\n",
      "Theta:  -0.0005618449806511207\n",
      "Vega:  0.03244606048313649\n",
      "Rho:  -0.013614588073498057\n",
      "\n",
      "\n",
      "Option 3 :\n",
      "Delta:  0.43774995733591904\n",
      "Gamma:  0.01854415142268068\n",
      "Theta:  -0.015219342972513475\n",
      "Vega:  0.37088302845361354\n",
      "Rho:  0.37772920013713207\n",
      "\n",
      "\n",
      "How many greeks are going to hedge: 3\n",
      "The first hedging greek: Delta\n",
      "The second hedging greek: Theta\n",
      "The thirth hedging greek: Rho\n",
      "\n",
      "Portfolio: \n",
      "Stock     :  0.001956661742301191\n",
      "Option  1 :  -1.1678427311703725\n",
      "Option  2 :  -1.5240880948644884\n",
      "Option  3 :  1.0\n",
      "\n",
      "The Portfolio's Greeks: \n",
      "Delta:  0.0\n",
      "Gamma:  -0.004664480282954627\n",
      "Theta:  -4.336808689942018e-17\n",
      "Vega :  -0.09778511970523812\n",
      "Rho  :  5.551115123125783e-17\n"
     ]
    },
    {
     "name": "stderr",
     "output_type": "stream",
     "text": [
      "/Users/kenneth/anaconda3/lib/python3.7/site-packages/ipykernel_launcher.py:53: FutureWarning: `rcond` parameter will change to the default of machine precision times ``max(M, N)`` where M and N are the input matrix dimensions.\n",
      "To use the future default and silence this warning we advise to pass `rcond=None`, to keep using the old, explicitly pass `rcond=-1`.\n"
     ]
    }
   ],
   "source": [
    "greeks_hedge(option_1,option_2,option_3)"
   ]
  },
  {
   "cell_type": "code",
   "execution_count": null,
   "metadata": {},
   "outputs": [],
   "source": []
  }
 ],
 "metadata": {
  "kernelspec": {
   "display_name": "Python 3",
   "language": "python",
   "name": "python3"
  }
 },
 "nbformat": 4,
 "nbformat_minor": 2
}
